{
 "cells": [
  {
   "attachments": {},
   "cell_type": "markdown",
   "metadata": {},
   "source": [
    "**bam indexing** (for downstream samtools view) </br>\n",
    "*uncomment to run (including %%bash)"
   ]
  },
  {
   "cell_type": "code",
   "execution_count": 5,
   "metadata": {},
   "outputs": [
    {
     "name": "stderr",
     "output_type": "stream",
     "text": [
      "ln: failed to create symbolic link './data/bam_source/pre-LUAD-02.bam': File exists\n"
     ]
    }
   ],
   "source": [
    "# %%bash\n",
    "# ## symbolic link file to the bam\n",
    "# ln -s /media/storage/hadas/projects/SomaticSerum/raw/pre-LUAD-02.bam -T ./data/bam_source/pre-LUAD-02.bam\n",
    "# samtools index ./data/bam_source/pre-LUAD-02.bam"
   ]
  },
  {
   "attachments": {},
   "cell_type": "markdown",
   "metadata": {},
   "source": [
    "**create sample bam file** (for testing)<br>\n",
    "uncomment to run (including %%bash)"
   ]
  },
  {
   "cell_type": "code",
   "execution_count": 31,
   "metadata": {
    "vscode": {
     "languageId": "shellscript"
    }
   },
   "outputs": [
    {
     "name": "stdout",
     "output_type": "stream",
     "text": [
      "-rw-rw-r-- 1 ido ido     2984 Mar 30 16:36 ./data/bam_source/pre-LUAD-02_chr1_1_1000000.bam.header\n",
      "-rw-rw-r-- 1 ido ido 24968500 Mar 30 16:36 ./data/bam_source/pre-LUAD-02_chr1_1_1000000.bam\n",
      "-rw-rw-r-- 1 ido ido  8897976 Mar 30 16:18 ./data/bam_source/pre-LUAD-02.bam.bai\n",
      "-rw-rw-r-- 1 ido ido     2827 Mar 30 13:46 ./data/bam_source/pre-LUAD-02.bam.header\n",
      "lrwxrwxrwx 1 ido ido       62 Mar 30 13:26 ./data/bam_source/pre-LUAD-02.bam -> /media/storage/hadas/projects/SomaticSerum/raw/pre-LUAD-02.bam\n"
     ]
    }
   ],
   "source": [
    "# %%bash\n",
    "\n",
    "# # Input and otuput BAM file \n",
    "# INPUT_BAM=\"/home/ido/bqsr_tab_anslysis/data/bam_source/pre-LUAD-02.bam\"\n",
    "# INPUT_BASENAME=$(basename \"$INPUT_BAM\" .bam)\n",
    "\n",
    "# # Region, Start and end positions of small genomic region\n",
    "# G_REGION=\"1\"   # => chromosome 1\n",
    "# START_POS=1\n",
    "# END_POS=1000000\n",
    "\n",
    "# OUTPUT_DIR=\"./data/bam_source\" \n",
    "# OUTPUT_BAM=\"${OUTPUT_DIR}/${INPUT_BASENAME}_chr${G_REGION}_${START_POS}_${END_POS}.bam\"\n",
    "# samtools view -b $INPUT_BAM $G_REGION:$START_POS-$END_POS > $OUTPUT_BAM\n",
    "# samtools view -H $OUTPUT_BAM > \"${OUTPUT_BAM}.header\"\n",
    "# ls -lt \"${OUTPUT_DIR}/${INPUT_BASENAME}\"*"
   ]
  },
  {
   "attachments": {},
   "cell_type": "markdown",
   "metadata": {},
   "source": [
    "using **picard** to generate genome dictionary"
   ]
  },
  {
   "cell_type": "code",
   "execution_count": 9,
   "metadata": {
    "vscode": {
     "languageId": "shellscript"
    }
   },
   "outputs": [
    {
     "name": "stderr",
     "output_type": "stream",
     "text": [
      "INFO\t2023-04-09 19:53:08\tCreateSequenceDictionary\t\n",
      "\n",
      "********** NOTE: Picard's command line syntax is changing.\n",
      "**********\n",
      "********** For more information, please see:\n",
      "********** \n",
      "https://github.com/broadinstitute/picard/wiki/Command-Line-Syntax-Transition-For-Users-(Pre-Transition)\n",
      "**********\n",
      "********** The command line looks like this in the new syntax:\n",
      "**********\n",
      "**********    CreateSequenceDictionary -R /home/ido/resources/hs37d5/hs37d5.fa -O /home/ido/resources/hs37d5/hs37d5.dict\n",
      "**********\n",
      "\n",
      "\n",
      "19:53:08.679 INFO  NativeLibraryLoader - Loading libgkl_compression.so from jar:file:/home/ido/picard/build/libs/picard.jar!/com/intel/gkl/native/libgkl_compression.so\n",
      "[Sun Apr 09 19:53:08 IDT 2023] CreateSequenceDictionary OUTPUT=/home/ido/resources/hs37d5/hs37d5.dict REFERENCE=/home/ido/resources/hs37d5/hs37d5.fa    TRUNCATE_NAMES_AT_WHITESPACE=true NUM_SEQUENCES=2147483647 VERBOSITY=INFO QUIET=false VALIDATION_STRINGENCY=STRICT COMPRESSION_LEVEL=5 MAX_RECORDS_IN_RAM=500000 CREATE_INDEX=false CREATE_MD5_FILE=false USE_JDK_DEFLATER=false USE_JDK_INFLATER=false\n",
      "[Sun Apr 09 19:53:08 IDT 2023] Executing as ido@TiShomron-Ubuntu on Linux 5.15.0-58-generic amd64; OpenJDK 64-Bit Server VM 17.0.6+10; Deflater: Intel; Inflater: Intel; Provider GCS is not available; Picard version: 3.0.0-1-g62ec81c-SNAPSHOT\n",
      "[Sun Apr 09 19:53:13 IDT 2023] picard.sam.CreateSequenceDictionary done. Elapsed time: 0.08 minutes.\n",
      "Runtime.totalMemory()=855638016\n"
     ]
    }
   ],
   "source": [
    "# %%bash \n",
    "# REF_GENOME_FULL_PATH=\"${HOME}/resources/hs37d5/hs37d5.fa\"\n",
    "# REF_GENOME_BASENAME=$(basename \"$REF_GENOME_FULL_PATH\")\n",
    "# REF_GENOME_NO_EXT=${REF_GENOME_BASENAME%.*}\n",
    "# DICT_FILE=$(dirname \"$REF_GENOME_FULL_PATH\")/${REF_GENOME_NO_EXT}.dict\n",
    "# PICARD_DIR=$HOME/picard/build/libs\n",
    "# samtools faidx $REF_GENOME_FULL_PATH\n",
    "# java -jar $PICARD_DIR/picard.jar CreateSequenceDictionary R=$REF_GENOME_FULL_PATH O=$DICT_FILE"
   ]
  },
  {
   "attachments": {},
   "cell_type": "markdown",
   "metadata": {},
   "source": [
    "**indexing vcf files**</br>\n",
    "*uncomment to run (including %%bash)"
   ]
  },
  {
   "cell_type": "code",
   "execution_count": 14,
   "metadata": {
    "vscode": {
     "languageId": "shellscript"
    }
   },
   "outputs": [
    {
     "name": "stderr",
     "output_type": "stream",
     "text": [
      "Using GATK jar /home/ido/gatk/build/libs/gatk-package-4.4.0.0-9-g56693ff-SNAPSHOT-local.jarUsing GATK jar /home/ido/gatk/build/libs/gatk-package-4.4.0.0-9-g56693ff-SNAPSHOT-local.jar\n",
      "Running:\n",
      "\n",
      "Running:\n",
      "    java -Dsamjdk.use_async_io_read_samtools=false -Dsamjdk.use_async_io_write_samtools=true -Dsamjdk.use_async_io_write_tribble=false -Dsamjdk.compression_level=2 -jar /home/ido/gatk/build/libs/gatk-package-4.4.0.0-9-g56693ff-SNAPSHOT-local.jar IndexFeatureFile --input /home/ido/mapping_resources/00-All.vcf.gz --verbosity ERROR\n",
      "    java -Dsamjdk.use_async_io_read_samtools=false -Dsamjdk.use_async_io_write_samtools=true -Dsamjdk.use_async_io_write_tribble=false -Dsamjdk.compression_level=2 -jar /home/ido/gatk/build/libs/gatk-package-4.4.0.0-9-g56693ff-SNAPSHOT-local.jar IndexFeatureFile --input /home/ido/mapping_resources/00-common_all.vcf.gz --verbosity ERROR\n",
      "[9 April 2023 at 20:18:40 IDT] org.broadinstitute.hellbender.tools.IndexFeatureFile done. Elapsed time: 1.12 minutes.\n",
      "Runtime.totalMemory()=754974720\n"
     ]
    },
    {
     "name": "stdout",
     "output_type": "stream",
     "text": [
      "Tool returned:\n",
      "/home/ido/mapping_resources/00-common_all.vcf.gz.tbi\n"
     ]
    },
    {
     "name": "stderr",
     "output_type": "stream",
     "text": [
      "[9 April 2023 at 20:31:14 IDT] org.broadinstitute.hellbender.tools.IndexFeatureFile done. Elapsed time: 13.70 minutes.\n",
      "Runtime.totalMemory()=654311424\n"
     ]
    },
    {
     "name": "stdout",
     "output_type": "stream",
     "text": [
      "Tool returned:\n",
      "/home/ido/mapping_resources/00-All.vcf.gz.tbi\n"
     ]
    }
   ],
   "source": [
    "%%bash\n",
    "VCF_ALL_FULL_PATH=$HOME/mapping_resources/00-All.vcf.gz\n",
    "VCF_COMMON_FULL_PATH=$HOME/mapping_resources/00-common_all.vcf.gz\n",
    "#samtools index $VCF_ALL_FULL_PATH\n",
    "gatk IndexFeatureFile --input $VCF_ALL_FULL_PATH --verbosity ERROR &\n",
    "gatk IndexFeatureFile --input $VCF_COMMON_FULL_PATH --verbosity ERROR &"
   ]
  },
  {
   "attachments": {},
   "cell_type": "markdown",
   "metadata": {},
   "source": [
    "**BaseRecalibrator**<br>"
   ]
  },
  {
   "cell_type": "code",
   "execution_count": 15,
   "metadata": {
    "vscode": {
     "languageId": "shellscript"
    }
   },
   "outputs": [
    {
     "name": "stdout",
     "output_type": "stream",
     "text": [
      "/home/ido/gatk/gatk BaseRecalibrator -I /home/ido/bqsr_tab_anslysis/data/bam_source/pre-LUAD-02_chr1_1_1000000.bam -R /home/ido/resources/hs37d5/hs37d5.fa --known-sites /home/ido/mapping_resources/00-common_all.vcf.gz -O /home/ido/bqsr_tab_analysis/data/test_bqsr/pre-LUAD-02_chr1_1_1000000.bam.recal_data.table\n"
     ]
    }
   ],
   "source": [
    "%%bash\n",
    "IN_BAM_FULL_PATH=$HOME/bqsr_tab_anslysis/data/bam_source/pre-LUAD-02_chr1_1_1000000.bam\n",
    "IN_BAM_BASENAME=$(basename \"$IN_BAM_FULL_PATH\")\n",
    "REF_GENOME=$HOME/resources/hs37d5/hs37d5.fa\n",
    "#KNOWN_SITES=$HOME/mapping_resources/00-All.vcf.gz\n",
    "KNOWN_SITES=$HOME/mapping_resources/00-common_all.vcf.gz\n",
    "OUTDIR=$HOME/bqsr_tab_anslysis/data/test_bqsr\n",
    "OUTFILE=$OUTDIR/$IN_BAM_BASENAME.recal_data.table\n",
    "#OTHER_ARGS=\"--java-options '-DGATK_STACKTRACE_ON_USER_EXCEPTION=true\"\n",
    "BASE_RECALIRATOR_CMD=\"$HOME/gatk/gatk BaseRecalibrator -I $IN_BAM_FULL_PATH -R $REF_GENOME \\\n",
    "                    --known-sites $KNOWN_SITES -O $OUTFILE\"\n",
    "echo $BASE_RECALIRATOR_CMD\n",
    "#$BASE_RECALIRATOR_CMD"
   ]
  },
  {
   "attachments": {},
   "cell_type": "markdown",
   "metadata": {},
   "source": [
    "### BaseRecalibrator Call\n",
    "(inspired by URL  https://gist.github.com/mbk0asis/59eed2009f8185a744eb705f9e444531)\n",
    "### another ref with the dbsnp: https://github.com/igsr/1000Genomes_data_indexes/blob/master/historical_data/former_toplevel/README.alignment_data.md"
   ]
  }
 ],
 "metadata": {
  "kernelspec": {
   "display_name": "bqsr_venv",
   "language": "python",
   "name": "python3"
  },
  "language_info": {
   "codemirror_mode": {
    "name": "ipython",
    "version": 3
   },
   "file_extension": ".py",
   "mimetype": "text/x-python",
   "name": "python",
   "nbconvert_exporter": "python",
   "pygments_lexer": "ipython3",
   "version": "3.10.9"
  },
  "orig_nbformat": 4
 },
 "nbformat": 4,
 "nbformat_minor": 2
}
