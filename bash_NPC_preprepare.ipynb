{
 "cells": [
  {
   "attachments": {},
   "cell_type": "markdown",
   "metadata": {},
   "source": [
    "---\n",
    "#### **Util script:** installation of hg19 reference <br>\n",
    "1) Genome download \n",
    "2) Decompress \n",
    "3) merge into single file <br>\n",
    "<**Source:** [illumina](https://support.illumina.com/content/dam/illumina-support/help/Illumina_DRAGEN_Bio_IT_Platform_v3_7_1000000141465/Content/SW/Informatics/Dragen/GenerateHA19Reference_fDG_dtREF.htm)>\n",
    "4) Indexing"
   ]
  },
  {
   "cell_type": "code",
   "execution_count": null,
   "metadata": {
    "vscode": {
     "languageId": "shellscript"
    }
   },
   "outputs": [],
   "source": [
    "# %%bash\n",
    "# # source illumina: \n",
    "# cd $HOME/resources\n",
    "# mkdir hg19fa\n",
    "# cd hg19fa\n",
    "# wget -q hgdownload.cse.ucsc.edu/goldenPath/hg19/bigZips/chromFa.tar.gz\n",
    "# tar -zxvf chromFa.tar.gz\n",
    "# cat chr*.fa > hg19.fa\n",
    "# # indexing genomee\n",
    "# ${HOME}/bwa/bwa index ${HOME}/resources/hg19fa/hg19.fa\n",
    "# ls -l ${HOME}/resources\n"
   ]
  },
  {
   "cell_type": "code",
   "execution_count": null,
   "metadata": {
    "vscode": {
     "languageId": "shellscript"
    }
   },
   "outputs": [
    {
     "name": "stderr",
     "output_type": "stream",
     "text": [
      "INFO\t2023-05-14 15:57:35\tCreateSequenceDictionary\t\n",
      "\n",
      "********** NOTE: Picard's command line syntax is changing.\n",
      "**********\n",
      "********** For more information, please see:\n",
      "********** \n",
      "https://github.com/broadinstitute/picard/wiki/Command-Line-Syntax-Transition-For-Users-(Pre-Transition)\n",
      "**********\n",
      "********** The command line looks like this in the new syntax:\n",
      "**********\n",
      "**********    CreateSequenceDictionary -R hg19.fa -O ./hg19.dict\n",
      "**********\n",
      "\n",
      "\n",
      "15:57:35.391 INFO  NativeLibraryLoader - Loading libgkl_compression.so from jar:file:/home/ido/picard/build/libs/picard.jar!/com/intel/gkl/native/libgkl_compression.so\n",
      "[Sun May 14 15:57:35 IDT 2023] CreateSequenceDictionary OUTPUT=./hg19.dict REFERENCE=hg19.fa    TRUNCATE_NAMES_AT_WHITESPACE=true NUM_SEQUENCES=2147483647 VERBOSITY=INFO QUIET=false VALIDATION_STRINGENCY=STRICT COMPRESSION_LEVEL=5 MAX_RECORDS_IN_RAM=500000 CREATE_INDEX=false CREATE_MD5_FILE=false USE_JDK_DEFLATER=false USE_JDK_INFLATER=false\n",
      "[Sun May 14 15:57:35 IDT 2023] Executing as ido@TiShomron-Ubuntu on Linux 5.19.0-40-generic amd64; OpenJDK 64-Bit Server VM 17.0.6+10; Deflater: Intel; Inflater: Intel; Provider GCS is not available; Picard version: 3.0.0-1-g62ec81c-SNAPSHOT\n",
      "[Sun May 14 15:57:40 IDT 2023] picard.sam.CreateSequenceDictionary done. Elapsed time: 0.09 minutes.\n",
      "Runtime.totalMemory()=771751936\n"
     ]
    }
   ],
   "source": [
    "# %%bash\n",
    "# PICARD_DIR=$HOME/picard/build/libs\n",
    "# GENOME_DIR=${HOME}/resources/hg19fa\n",
    "# GENOME=hg19.fa\n",
    "\n",
    "# genome_basename=$(basename \"$GENOME\")\n",
    "# genome_without_ext=${genome_basename%.*} \n",
    "# dict_filename=$(dirname \"$genome_full_path\")/${genome_without_ext}.dict\n",
    "# cd $GENOME_DIR\n",
    "# samtools faidx $GENOME\n",
    "# java -jar $PICARD_DIR/picard.jar CreateSequenceDictionary R=$GENOME O=$dict_filename"
   ]
  },
  {
   "attachments": {},
   "cell_type": "markdown",
   "metadata": {},
   "source": [
    "**Manipulating with the VCF file**\n",
    "1) adding \"chr\" to the REGION ID\n",
    "2) indexing\n",
    "Note: decompression and compression are required using bgzip compression"
   ]
  },
  {
   "cell_type": "code",
   "execution_count": 33,
   "metadata": {
    "vscode": {
     "languageId": "shellscript"
    }
   },
   "outputs": [
    {
     "name": "stdout",
     "output_type": "stream",
     "text": [
      "cd /home/ido/mapping_resources/dbSNP_b151_GRCh37.p13\n",
      "cp 00-common_all.vcf.gz 00-common_all.vcf.copy.gz ;echo \"Copied\"\n",
      "bgzip -d 00-common_all.vcf.copy.gz ; echo \"bgzip decompressed\"\n",
      "gawk '{ if($0 !~ /^#/) print \"chr\"$0; else if(match($0, /(##contig=<ID=)(.*)/ ,m)) print m[1]\"chr\"m[2]; else print $0 }' .copy > 00-common_all.with_chr.vcf\n",
      "bgzip 00-common_all.with_chr.vcf && tabix -p vcf 00-common_all.with_chr.vcf.gz\n"
     ]
    }
   ],
   "source": [
    "%%bash \n",
    "vcf_dir=$HOME/mapping_resources/dbSNP_b151_GRCh37.p13\n",
    "source_vcf=00-common_all.vcf \n",
    "source_vcf_gz=$source_vcf.gz\n",
    "copy_vcf_gz=$source_vcf.copy.gz\n",
    "copy_vcf=$source_filename.copy\n",
    "\n",
    "\n",
    "\n",
    "# correction of REGION ID  - addition of \"chr\"\n",
    "gawk_cmd=\"gawk '{\n",
    "            if(\\$0 !~ /^#/) \n",
    "                  print \\\"chr\\\"\\$0;\n",
    "            else if(match(\\$0, /(##contig=<ID=)(.*)/ ,m))\n",
    "                        print m[1]\\\"chr\\\"m[2];\n",
    "            else print \\$0 \n",
    "      }'\"\n",
    "\n",
    "vcf_file_with_chr=${source_vcf%.*}.with_chr.vcf\n",
    "\n",
    "final_add_chr_cmd=\"${gawk_cmd} $copy_vcf > $vcf_file_with_chr\"\n",
    "bgziptabix_cmd=\"bgzip ${vcf_file_with_chr} && tabix -p vcf ${vcf_file_with_chr}.gz\"\n",
    "\n",
    "cd_cmd=\"cd ${vcf_dir}\"\n",
    "# original file to copy (preserving original)\n",
    "copy_cmd=\"cp ${source_vcf_gz} ${copy_vcf_gz} ;echo \\\"Copied\\\"\"\n",
    "# decompression using bgzip\n",
    "bgzip_cmd=\"bgzip -d  ${copy_vcf_gz} ; echo \\\"bgzip decompressed\\\"\"\n",
    "echo $cd_cmd\n",
    "echo $copy_cmd\n",
    "echo $bgzip_cmd\n",
    "echo $final_add_chr_cmd\n",
    "echo $bgziptabix_cmd\n"
   ]
  },
  {
   "attachments": {},
   "cell_type": "markdown",
   "metadata": {},
   "source": [
    "#### [NPC Manuscript](https://www.ncbi.nlm.nih.gov/pmc/articles/PMC5253631/)\n",
    "#### **Genome:** (hg19)<br>\n",
    "**Q**:  is hg19 and hs37d5 are the same?<br>\n",
    "**chatGPT:** The assembly is commonly known as hg19 (Human Genome version 19) and is also referred to as GRCh37 (Genome Reference Consortium human genome assembly build 37).\n",
    "\n",
    "hs37d5 is a specific naming convention used by the 1000 Genomes Project to refer to the subset of the hg19 assembly that they used for their project. The hs37d5 assembly includes the reference genome sequence and additional decoy sequences to help account for problematic regions in sequencing data."
   ]
  },
  {
   "attachments": {},
   "cell_type": "markdown",
   "metadata": {},
   "source": [
    "### **Download files** (uncomment to execute)\n",
    "4 bam files were downloaded (2 pairs of Tumor|Normal)<BR>\n",
    "URL: https://trace.ncbi.nlm.nih.gov/Traces/study/?acc=ERP014349&o=acc_s%3Aa\n",
    "\n",
    "| **[Run](https://trace.ncbi.nlm.nih.gov/Traces/study/?acc=ERP014349&o=acc_s%3Aa)** | **[BioSample](https://trace.ncbi.nlm.nih.gov/Traces/study/?acc=ERP014349&o=acc_s%3Aa)** | **[Bases](https://trace.ncbi.nlm.nih.gov/Traces/study/?acc=ERP014349&o=acc_s%3Aa)** | **[Bytes](https://trace.ncbi.nlm.nih.gov/Traces/study/?acc=ERP014349&o=acc_s%3Aa)** | [**create_date**](https://trace.ncbi.nlm.nih.gov/Traces/study/?acc=ERP014349&o=acc_s%3Aa) | **Sample_Name** |\n",
    "| --------------------------------------------------------------------------------- | --------------------------------------------------------------------------------------- | ----------------------------------------------------------------------------------- | ----------------------------------------------------------------------------------- | ----------------------------------------------------------------------------------------- | --------------- |\n",
    "| [ERR1293970](https://trace.ncbi.nlm.nih.gov/Traces/sra?run=ERR1293970)            | [SAMEA3879644](https://www.ncbi.nlm.nih.gov/biosample/SAMEA3879644)                     | 137.18 G                                                                            | 64.58 Gb                                                                            | 2020-03-0818:36:00Z                                                                       | HKNPC-090N      |\n",
    "| [ERR1293971](https://trace.ncbi.nlm.nih.gov/Traces/sra?run=ERR1293971)            | [SAMEA3879645](https://www.ncbi.nlm.nih.gov/biosample/SAMEA3879645)                     | 275.63 G                                                                            | 122.21 Gb                                                                           | 2019-06-2705:38:00Z                                                                       | HKNPC-090T      |\n",
    "| [ERR1293972](https://trace.ncbi.nlm.nih.gov/Traces/sra?run=ERR1293972)            | [SAMEA3879646](https://www.ncbi.nlm.nih.gov/biosample/SAMEA3879646)                     | 146.53 G                                                                            | 72.61 Gb                                                                            | 2020-03-0822:45:00Z                                                                       | HKNPC-101N      |\n",
    "| [ERR1293973](https://trace.ncbi.nlm.nih.gov/Traces/sra?run=ERR1293973)            | [SAMEA3879647](https://www.ncbi.nlm.nih.gov/biosample/SAMEA3879647)                     | 273.83 G                                                                            | 125.78 Gb                                                                           | 2019-06-2522:11:00Z                                                                       | HKNPC-101T      |"
   ]
  },
  {
   "cell_type": "code",
   "execution_count": null,
   "metadata": {
    "vscode": {
     "languageId": "shellscript"
    }
   },
   "outputs": [],
   "source": [
    "# %%bash\n",
    "''' download of fastq files\n",
    "# fasterq-dump ERR1293972 &\n",
    "# fasterq-dump ERR1293971 &\n",
    "# fasterq-dump ERR1293970 &\n",
    "# fasterq-dump ERR1293973 & \n",
    "'''\n",
    "# prefetch SAMEA3879644 --max-size 300000000 &\n",
    "# prefetch SAMEA3879645 --max-size 300000000 &\n",
    "# prefetch SAMEA3879646 --max-size 300000000 &\n",
    "# prefetch SAMEA3879647 --max-size 300000000 &\n",
    "\n",
    "prefetch SAMEA3879644 --max-size 300000000 --resume yes &\n",
    "prefetch SAMEA3879645 --max-size 300000000 --resume yes &\n",
    "prefetch SAMEA3879646 --max-size 300000000 --resume yes &\n",
    "prefetch SAMEA3879647 --max-size 300000000 --resume yes &\n",
    "# be carfull, make sure that lock file is exists before usage\n",
    "# prefetch SAMEA3879644 --max-size 300000000 --resume yes --force all &\n",
    "# prefetch SAMEA3879645 --max-size 300000000 --resume yes --force all &\n",
    "# prefetch SAMEA3879646 --max-size 300000000 --resume yes --force all &\n",
    "# prefetch SAMEA3879647 --max-size 300000000 --resume yes --force all &\n"
   ]
  },
  {
   "attachments": {},
   "cell_type": "markdown",
   "metadata": {},
   "source": [
    "### common SNPs or All SNPs ([Reference](https://www.biostars.org/p/9476059/))\n",
    " \n",
    " According to [NCBI](https://www.ncbi.nlm.nih.gov/variation/docs/human_variation_vcf/):\n",
    " ```\n",
    "00-All.vcf.gz: All human SNPs\n",
    "00-common_all.vcf.gz: Common human SNPs (minor allele frequency >= 0.01 in at least one of 26 major populations, with at least two unrelated individuals having the minor allele)\n",
    " ```\n",
    "Using BaseRecalibrator, it appears to be good prectice to mask 00-commmon_all.vcf SNPs (--known-sites flag)\n",
    "\n"
   ]
  },
  {
   "attachments": {},
   "cell_type": "markdown",
   "metadata": {},
   "source": [
    "---\n",
    "#### 1. Sex determination of samples using coverage ratio"
   ]
  },
  {
   "cell_type": "code",
   "execution_count": 17,
   "metadata": {
    "vscode": {
     "languageId": "shellscript"
    }
   },
   "outputs": [
    {
     "name": "stdout",
     "output_type": "stream",
     "text": [
      "chr1\n",
      "89.9742\n",
      "chr2\n",
      "93.4991\n",
      "chr3\n",
      "80.8917\n",
      "chr4\n",
      "97.7462\n",
      "chr5\n",
      "91.4588\n",
      "chr6\n",
      "93.1725\n",
      "chr7\n",
      "92.6501\n",
      "chr8\n",
      "97.3834\n",
      "chr9\n",
      "88.096\n",
      "chr10\n",
      "63.4439\n",
      "autosomes average cov: 88.8316\n",
      "chr1\n"
     ]
    }
   ],
   "source": [
    "%%bash\n",
    "# sex determination\n",
    "\n",
    "# first 5 autosomes as reference\n",
    "ref_autosomes_lst=(\"chr1\" \"chr2\" \"chr3\" \"chr4\" \"chr5\" chr6 \"chr7\" \"chr8\" \"chr9\" \"chr10\")\n",
    "\n",
    "samples_dir=/media/storage/ido/test_profiler/NPC_2017\n",
    "# sample  bamfile dictionary, to load for multiple analyses\n",
    "declare -A bamfiles_dict\n",
    "bamfiles_dict[\"SAMEA3879644\"]=\"HKNPC-090N.bam\"\n",
    "bamfiles_dict[\"SAMEA3879645\"]=\"HKNPC-090T.bam\"\n",
    "bamfiles_dict[\"SAMEA3879646\"]=\"HKNPC-101N.bam\"\n",
    "bamfiles_dict[\"SAMEA3879647\"]=\"HKNPC-101T.bam\"\n",
    "for sample in \"${!bamfiles_dict[@]}\"\n",
    "do\n",
    "    bam_dir=$samples_dir/$sample/\n",
    "    bam_file=${bamfiles_dict[$sample]}\n",
    "\n",
    "    cd ${bam_dir}\n",
    "\n",
    "    # calculate average position coverage \n",
    "    x_coverage=$(samtools depth -r chrX ${bam_file} | awk '{sum += $3} END {print sum/NR}')\n",
    "    y_coverage=$(samtools depth -r chrY ${bam_file} | awk '{sum += $3} END {print sum/NR}')\n",
    "\n",
    "    autosome_cov=()\n",
    "    for autosome in \"${ref_autosomes_lst[@]}\"; do\n",
    "        echo $autosome\n",
    "        auto_coverage=$(samtools depth -r ${autosome} ${bam_file} | awk '{sum += $3} END {if (NR > 0) print sum/NR}')\n",
    "        echo $auto_coverage\n",
    "        autosome_cov+=($auto_coverage)\n",
    "    done\n",
    "    \n",
    "    auto_cov_avg=$(echo \"${autosome_cov[*]}\" | awk '{ total = 0; for (i = 1; i <= NF; i++) total += $i; print total / NF }')\n",
    "    echo \"autosomes average cov:\" $auto_cov_avg\n",
    "\n",
    "    x_normalized=$(echo \"scale=2; $x_coverage / $auto_cov_avg\" | bc)\n",
    "    y_normalized=$(echo \"scale=2; $y_coverage / $auto_cov_avg\" | bc)\n",
    "\n",
    "    \n",
    "    coverage_ratio=$(awk \"BEGIN {print $x_normalized / $y_normalized}\")\n",
    "\n",
    "    if (( $(echo \"$coverage_ratio > 1.5\" | bc -l) )); then\n",
    "        sex=\"Female\"\n",
    "    else\n",
    "        sex=\"Male\"\n",
    "    fi\n",
    "\n",
    "    # Print the result to an outfile\n",
    "    outfile=$bam_file.coverage_test.$sex.txt\n",
    "    echo \"Sex: $sex\"                            > $outfile\n",
    "    echo \"X Coverage: $x_coverage\"              >> $outfile\n",
    "    echo \"Y Coverage: $y_coverage\"              >> $outfile\n",
    "    echo \"chr1-10 Avg Coverage: $auto_cov_avg\"   >> $outfile\n",
    "    echo \"X Normalized: $x_normalized\"          >> $outfile\n",
    "    echo \"Y Normalized: $y_normalized\"          >> $outfile\n",
    "    echo \"Coverage Ratio (X/Y): $coverage_ratio\"  >> $outfile\n",
    "done"
   ]
  },
  {
   "cell_type": "code",
   "execution_count": null,
   "metadata": {},
   "outputs": [],
   "source": [
    "# if the sex could not be determined, or mixed, extract bam with autosomes only"
   ]
  },
  {
   "attachments": {},
   "cell_type": "markdown",
   "metadata": {},
   "source": [
    "---\n",
    "### Creation of **autosomes only**  bam file  + indexing  (enbaling comparison with reduced sex effect)"
   ]
  },
  {
   "attachments": {},
   "cell_type": "markdown",
   "metadata": {},
   "source": [
    "1. Autosomes list for autosomes.bed filename"
   ]
  },
  {
   "cell_type": "code",
   "execution_count": null,
   "metadata": {
    "vscode": {
     "languageId": "powershell"
    }
   },
   "outputs": [],
   "source": [
    "chr1    0       249250621\n",
    "chr2    0       243199373\n",
    "chr3    0       198022430\n",
    "chr4    0       191154276\n",
    "chr5    0       180915260\n",
    "chr6    0       171115067\n",
    "chr7    0       159138663\n",
    "chr8    0       146364022\n",
    "chr9    0       141213431\n",
    "chr10   0       135534747\n",
    "chr11   0       135006516\n",
    "chr12   0       133851895\n",
    "chr13   0       115169878\n",
    "chr14   0       107349540\n",
    "chr15   0       102531392\n",
    "chr16   0       90354753\n",
    "chr17   0       81195210\n",
    "chr18   0       78077248\n",
    "chr19   0       59128983\n",
    "chr20   0       63025520\n",
    "chr21   0       48129895\n",
    "chr22   0       51304566\n"
   ]
  },
  {
   "attachments": {},
   "cell_type": "markdown",
   "metadata": {},
   "source": [
    "2. Creation of autosomes bam "
   ]
  },
  {
   "cell_type": "code",
   "execution_count": 12,
   "metadata": {
    "vscode": {
     "languageId": "shellscript"
    }
   },
   "outputs": [
    {
     "name": "stdout",
     "output_type": "stream",
     "text": [
      "samtools view -@ 4 -L /media/storage/ido/test_profiler/NPC_2017/autosomes.bed -b HKNPC-090T.bam > HKNPC-090T.bam.autosomes.bam &\n",
      "samtools index HKNPC-090T.bam.autosomes.bam -@ 4 &\n"
     ]
    }
   ],
   "source": [
    "%%bash\n",
    "#prepare autosome file\n",
    "\n",
    "AUTOSOMES_FILE=/media/storage/ido/test_profiler/NPC_2017/autosomes.bed\n",
    "OUT_EXT=\"autosomes.bam\"\n",
    "MULTI_THREADS=\"-@ 4\"\n",
    "\n",
    "samples_dir=/media/storage/ido/test_profiler/NPC_2017\n",
    "# sample  bamfile dictionary, to load for multiple analyses\n",
    "declare -A bamfiles_dict\n",
    "# bamfiles_dict[\"SAMEA3879644\"]=\"HKNPC-090N.bam\"\n",
    "# bamfiles_dict[\"SAMEA3879645\"]=\"HKNPC-090T.bam\"\n",
    "# bamfiles_dict[\"SAMEA3879646\"]=\"HKNPC-101N.bam\"\n",
    "# bamfiles_dict[\"SAMEA3879647\"]=\"HKNPC-101T.bam\"\n",
    "\n",
    "for sample in \"${!bamfiles_dict[@]}\"\n",
    "do\n",
    "    bam_dir=$samples_dir/$sample/\n",
    "    bam_file=${bamfiles_dict[$sample]}\n",
    "    \n",
    "    outfile=$bam_file.$OUT_EXT\n",
    "    \n",
    "    cd ${bam_dir}\n",
    "    ## copy autosomes list to directory\n",
    "    cp $AUTOSOMES_FILE  .\n",
    "\n",
    "    generate_bam_cmd=\"samtools view $MULTI_THREADS -L $AUTOSOMES_FILE -b $bam_file  > $outfile &\"\n",
    "    echo $generate_bam_cmd\n",
    "    # $generate_bam_cmd\n",
    "    index_bam_cmd=\"samtools index $outfile $MULTI_THREADS &\"\n",
    "    echo $index_bam_cmd \n",
    "    # $index_bam_cmd \n",
    "    # samtools view -H $OUTPUT_BAM > \"${OUTPUT_BAM}.header\"\n",
    "done\n"
   ]
  },
  {
   "attachments": {},
   "cell_type": "markdown",
   "metadata": {},
   "source": []
  },
  {
   "attachments": {},
   "cell_type": "markdown",
   "metadata": {},
   "source": [
    "---\n",
    "#### Issueing a GATK report"
   ]
  },
  {
   "cell_type": "code",
   "execution_count": 1,
   "metadata": {
    "vscode": {
     "languageId": "shellscript"
    }
   },
   "outputs": [
    {
     "name": "stdout",
     "output_type": "stream",
     "text": [
      "/home/ido/gatk/gatk BaseRecalibrator -I /media/storage/ido/test_profiler/NPC_2017/SAMEA3879647/HKNPC-101T.bam -R /home/ido/resources/hg19fa/hg19.fa --known-sites /home/ido/mapping_resources/dbSNP_b151_GRCh37.p13/00-common_all.with_chr.vcf.gz -O /media/storage/ido/test_profiler/NPC_2017/SAMEA3879647//media/storage/ido/test_profiler/NPC_2017/SAMEA3879647/HKNPC-101T.bam.GATKReport.mm_cntxt.4 --mismatches-context-size 4 --verbosity ERROR &\n",
      "/home/ido/gatk/gatk BaseRecalibrator -I /media/storage/ido/test_profiler/NPC_2017/SAMEA3879647/HKNPC-101T.bam -R /home/ido/resources/hg19fa/hg19.fa --known-sites /home/ido/mapping_resources/dbSNP_b151_GRCh37.p13/00-common_all.with_chr.vcf.gz -O /media/storage/ido/test_profiler/NPC_2017/SAMEA3879647//media/storage/ido/test_profiler/NPC_2017/SAMEA3879647/HKNPC-101T.bam.GATKReport.mm_cntxt.6 --mismatches-context-size 6 --verbosity ERROR &\n",
      "/home/ido/gatk/gatk BaseRecalibrator -I HKNPC-101T.bam.autosomes.bam -R /home/ido/resources/hg19fa/hg19.fa --known-sites /home/ido/mapping_resources/dbSNP_b151_GRCh37.p13/00-common_all.with_chr.vcf.gz -O /media/storage/ido/test_profiler/NPC_2017/SAMEA3879647/HKNPC-101T.bam.autosomes.bam.GATKReport.mm_cntxt.4 --mismatches-context-size 4 --verbosity ERROR &\n",
      "/home/ido/gatk/gatk BaseRecalibrator -I HKNPC-101T.bam.autosomes.bam -R /home/ido/resources/hg19fa/hg19.fa --known-sites /home/ido/mapping_resources/dbSNP_b151_GRCh37.p13/00-common_all.with_chr.vcf.gz -O /media/storage/ido/test_profiler/NPC_2017/SAMEA3879647/HKNPC-101T.bam.autosomes.bam.GATKReport.mm_cntxt.6 --mismatches-context-size 6 --verbosity ERROR &\n"
     ]
    }
   ],
   "source": [
    "%%bash\n",
    "\n",
    "get_files_with_extension() {\n",
    "  local extension=$1\n",
    "  local files=()\n",
    "  \n",
    "  for file in *.\"$extension\"; do\n",
    "    if [[ -f \"$file\" ]]; then\n",
    "      files+=(\"$file\")\n",
    "    fi\n",
    "  done\n",
    "  echo \"${files[@]}\"\n",
    "}\n",
    "\n",
    "# mismatch context size parameters\n",
    "cntxt_sizes=(4 6)  # Specify the list of numbers\n",
    "QUIET_MODE=\"--verbosity ERROR\"\n",
    "BR_DIR=$HOME/gatk/gatk\n",
    "KNOWN_SITES=$HOME/mapping_resources/dbSNP_b151_GRCh37.p13/00-common_all.with_chr.vcf.gz\n",
    "REF_GENOME=$HOME/resources/hg19fa/hg19.fa\n",
    "\n",
    "samples_dir=/media/storage/ido/test_profiler/NPC_2017\n",
    "# sample  bamfile dictionary, to load for multiple analyses\n",
    "declare -A bamfiles_dict\n",
    "# bamfiles_dict[\"SAMEA3879644\"]=\"HKNPC-090N.bam\"\n",
    "# bamfiles_dict[\"SAMEA3879645\"]=\"HKNPC-090T.bam\"\n",
    "# bamfiles_dict[\"SAMEA3879646\"]=\"HKNPC-101N.bam\"\n",
    "bamfiles_dict[\"SAMEA3879647\"]=\"HKNPC-101T.bam\"\n",
    "\n",
    "OUT_EXT=GATKReport\n",
    "\n",
    "for sample in \"${!bamfiles_dict[@]}\"; do\n",
    "    bam_dir=$samples_dir/$sample/\n",
    "    cd ${bam_dir}\n",
    "    bam_files=$bam_dir$(get_files_with_extension \"bam\")\n",
    "    for bam_file in $bam_files; do\n",
    "        # echo $bam_file\n",
    "        # echo $outfile\n",
    "        # Loop over the list and echo each item\n",
    "        for c_size in \"${cntxt_sizes[@]}\" ; do\n",
    "          # outfile=$bam_file.$OUT_EXT.mm_cntxt.$c_size\n",
    "          outfile=$bam_dir$bam_file.$OUT_EXT.mm_cntxt.$c_size\n",
    "          br_cmd=\"$BR_DIR BaseRecalibrator -I $bam_file -R $REF_GENOME \\\n",
    "                --known-sites $KNOWN_SITES -O $outfile --mismatches-context-size $c_size $QUIET_MODE &\"\n",
    "          echo $br_cmd\n",
    "        done\n",
    "    done\n",
    "done"
   ]
  },
  {
   "attachments": {},
   "cell_type": "markdown",
   "metadata": {},
   "source": [
    "---\n",
    "#### **br_stat_profiler**\n",
    "Parms: qerr_cutoff = 20 | scr_bins_count={2, 3} |  N_wobbles = 2/4, 3/6, | R_Y_wobbles = 3/4, 4/6 | Keep None\n",
    "Infile: report\n",
    "Outfile: <report>.profile.scr_bins.{2,3} + .log"
   ]
  },
  {
   "cell_type": "code",
   "execution_count": 27,
   "metadata": {
    "vscode": {
     "languageId": "shellscript"
    }
   },
   "outputs": [
    {
     "name": "stdout",
     "output_type": "stream",
     "text": [
      "Found 'yes' in the list.\n",
      "Found 'yes' in the list.\n"
     ]
    }
   ],
   "source": [
    "%%bash\n",
    "list=(\"no\" \"yes\" \"no\" \"no\" \"yes\" \"no\")\n",
    "\n",
    "for item in \"${list[@]}\"; do\n",
    "  if [[ \"$item\" == \"yes\" ]]; then\n",
    "    echo \"Found 'yes' in the list.\"\n",
    "    # Perform further actions if needed\n",
    "  fi\n",
    "done\n"
   ]
  },
  {
   "cell_type": "code",
   "execution_count": 35,
   "metadata": {
    "vscode": {
     "languageId": "shellscript"
    }
   },
   "outputs": [
    {
     "name": "stdout",
     "output_type": "stream",
     "text": [
      "/home/ido/miniconda3/bin/python3.10 /home/ido/br_stat_profiler/br_stat_profiler.py --infile /media/storage/ido/test_profiler/NPC_2017/SAMEA3879644/HKNPC-090N.bam.autosomes.bam.GATKReport.mm_cntxt.4 --outfile /media/storage/ido/test_profiler/NPC_2017/SAMEA3879644/HKNPC-090N.bam.autosomes.bam.GATKReport.mm_cntxt.4.profile.sym_cutoff --scr_bin_count 3 ---max_score 100 --qerr_cutoff_both_sides --qerr_cutoff 3 --min_score 20 --keep_nan_value --max_wob_N_occ 2 --max_wob_R_Y_occ 3 --log_file /media/storage/ido/test_profiler/NPC_2017/SAMEA3879644/HKNPC-090N.bam.autosomes.bam.GATKReport.mm_cntxt.4.profile.sym_cutoff.log &\n",
      "/home/ido/miniconda3/bin/python3.10 /home/ido/br_stat_profiler/br_stat_profiler.py --infile /media/storage/ido/test_profiler/NPC_2017/SAMEA3879644/HKNPC-090N.bam.GATKReport.mm_cntxt.4 --outfile /media/storage/ido/test_profiler/NPC_2017/SAMEA3879644/HKNPC-090N.bam.GATKReport.mm_cntxt.4.profile.sym_cutoff --scr_bin_count 3 ---max_score 100 --qerr_cutoff_both_sides --qerr_cutoff 3 --min_score 20 --keep_nan_value --max_wob_N_occ 2 --max_wob_R_Y_occ 3 --log_file /media/storage/ido/test_profiler/NPC_2017/SAMEA3879644/HKNPC-090N.bam.GATKReport.mm_cntxt.4.profile.sym_cutoff.log &\n",
      "/home/ido/miniconda3/bin/python3.10 /home/ido/br_stat_profiler/br_stat_profiler.py --infile /media/storage/ido/test_profiler/NPC_2017/SAMEA3879644/HKNPC-090N.bam.autosomes.bam.GATKReport.mm_cntxt.6 --outfile /media/storage/ido/test_profiler/NPC_2017/SAMEA3879644/HKNPC-090N.bam.autosomes.bam.GATKReport.mm_cntxt.6.profile.sym_cutoff --scr_bin_count 3 ---max_score 100 --qerr_cutoff_both_sides --qerr_cutoff 3 --min_score 20 --keep_nan_value --max_wob_N_occ 3 --max_wob_R_Y_occ 4 --log_file /media/storage/ido/test_profiler/NPC_2017/SAMEA3879644/HKNPC-090N.bam.autosomes.bam.GATKReport.mm_cntxt.6.profile.sym_cutoff.log &\n",
      "/home/ido/miniconda3/bin/python3.10 /home/ido/br_stat_profiler/br_stat_profiler.py --infile /media/storage/ido/test_profiler/NPC_2017/SAMEA3879644/HKNPC-090N.bam.GATKReport.mm_cntxt.6 --outfile /media/storage/ido/test_profiler/NPC_2017/SAMEA3879644/HKNPC-090N.bam.GATKReport.mm_cntxt.6.profile.sym_cutoff --scr_bin_count 3 ---max_score 100 --qerr_cutoff_both_sides --qerr_cutoff 3 --min_score 20 --keep_nan_value --max_wob_N_occ 3 --max_wob_R_Y_occ 4 --log_file /media/storage/ido/test_profiler/NPC_2017/SAMEA3879644/HKNPC-090N.bam.GATKReport.mm_cntxt.6.profile.sym_cutoff.log &\n"
     ]
    }
   ],
   "source": [
    "%%bash\n",
    "get_files_with_extension() {\n",
    "  local extension=$1\n",
    "  local files=()\n",
    "  \n",
    "  for file in *.\"$extension\"; do\n",
    "    if [[ -f \"$file\" ]]; then\n",
    "      files+=(\"$file\")\n",
    "    fi\n",
    "  done\n",
    "  echo \"${files[@]}\"\n",
    "}\n",
    "\n",
    "\n",
    "PYTHON=/home/ido/miniconda3/bin/python3.10\n",
    "PROFILER=/home/ido/br_stat_profiler/br_stat_profiler.py\n",
    "\n",
    "# sym_cutoff_options=(\"yes\" \"no\")\n",
    "sym_cutoff_options=(\"yes\")\n",
    "samples_dir=/media/storage/ido/test_profiler/NPC_2017\n",
    "# sample  bamfile dictionary, to load for multiple analyses\n",
    "declare -A bamfiles_dict\n",
    "bamfiles_dict[\"SAMEA3879644\"]=\"HKNPC-090N.bam\"\n",
    "# bamfiles_dict[\"SAMEA3879645\"]=\"HKNPC-090T.bam\"\n",
    "# bamfiles_dict[\"SAMEA3879646\"]=\"HKNPC-101N.bam\"\n",
    "# bamfiles_dict[\"SAMEA3879647\"]=\"HKNPC-101T.bam\"\n",
    "\n",
    "for sample in \"${!bamfiles_dict[@]}\"\n",
    "do\n",
    "    bam_dir=$samples_dir/$sample/\n",
    "    bam_file=${bamfiles_dict[$sample]}\n",
    "    cd ${bam_dir}\n",
    "    reports_4=$(get_files_with_extension \"4\")\n",
    "    reports_6=$(get_files_with_extension \"6\")\n",
    "    infiles=()\n",
    "    infiles+=(${reports_4[@]} ${reports_6[@]})\n",
    "    for infile in \"${infiles[@]}\"; do\n",
    "        infile=$bam_dir$infile\n",
    "        outfile=$infile.profile\n",
    "            # echo $outfile\n",
    "        max_wob_N=2 \n",
    "        max_wob_R_Y=3\n",
    "\n",
    "        if [[ $infile == *6 ]]; then  # filename ends with 6 context\n",
    "            max_wob_N=3 \n",
    "            max_wob_R_Y=4\n",
    "        fi \n",
    "        \n",
    "        for sym_cut in \"${sym_cutoff_options[@]}\" ; do\n",
    "            max_score=\"---max_score 35\"\n",
    "            sym_cutoff=\"\"\n",
    "            if [[ \"$sym_cut\" == \"yes\" ]]; then\n",
    "                max_score=\"---max_score 100\"\n",
    "                sym_cutoff=\"--qerr_cutoff_both_sides\"\n",
    "                outfile=$outfile.sym_cutoff\n",
    "            fi\n",
    "\n",
    "            outfile_log=$outfile.log\n",
    "            cmd=\"${PYTHON} ${PROFILER} --infile $infile --outfile $outfile --scr_bin_count 3 \\\n",
    "                $max_score $sym_cutoff --qerr_cutoff 3 --min_score 20 --keep_nan_value  --max_wob_N_occ $max_wob_N --max_wob_R_Y_occ $max_wob_R_Y --log_file $outfile_log\"\n",
    "            echo $cmd \"&\"\n",
    "        done\n",
    "        # $cmd &            \n",
    "    done\n",
    "    # done\n",
    "done\n"
   ]
  },
  {
   "cell_type": "code",
   "execution_count": null,
   "metadata": {
    "vscode": {
     "languageId": "shellscript"
    }
   },
   "outputs": [
    {
     "name": "stdout",
     "output_type": "stream",
     "text": [
      "/home/ido/miniconda3/bin/python3.10 /home/ido/br_stat_profiler/br_stat_profiler.py --infile HKNPC-101N.bam.autosomes.bam.GATKReport.mm_cntxt.4 --outfile HKNPC-101N.bam.autosomes.bam.GATKReport.mm_cntxt.4.profile.2.bins --scr_bin_count 2 --min_score 20 --keep_nan_value --max_wob_N_occ 2 --max_wob_R_Y_occ 3 --log_file HKNPC-101N.bam.autosomes.bam.GATKReport.mm_cntxt.4.profile.2.bins.log\n",
      "/home/ido/miniconda3/bin/python3.10 /home/ido/br_stat_profiler/br_stat_profiler.py --infile HKNPC-101N.bam.autosomes.bam.GATKReport.mm_cntxt.4 --outfile HKNPC-101N.bam.autosomes.bam.GATKReport.mm_cntxt.4.profile.3.bins --scr_bin_count 3 --min_score 20 --keep_nan_value --max_wob_N_occ 2 --max_wob_R_Y_occ 3 --log_file HKNPC-101N.bam.autosomes.bam.GATKReport.mm_cntxt.4.profile.3.bins.log\n",
      "/home/ido/miniconda3/bin/python3.10 /home/ido/br_stat_profiler/br_stat_profiler.py --infile HKNPC-101N.bam.GATKReport.mm_cntxt.4 --outfile HKNPC-101N.bam.GATKReport.mm_cntxt.4.profile.2.bins --scr_bin_count 2 --min_score 20 --keep_nan_value --max_wob_N_occ 2 --max_wob_R_Y_occ 3 --log_file HKNPC-101N.bam.GATKReport.mm_cntxt.4.profile.2.bins.log\n",
      "/home/ido/miniconda3/bin/python3.10 /home/ido/br_stat_profiler/br_stat_profiler.py --infile HKNPC-101N.bam.GATKReport.mm_cntxt.4 --outfile HKNPC-101N.bam.GATKReport.mm_cntxt.4.profile.3.bins --scr_bin_count 3 --min_score 20 --keep_nan_value --max_wob_N_occ 2 --max_wob_R_Y_occ 3 --log_file HKNPC-101N.bam.GATKReport.mm_cntxt.4.profile.3.bins.log\n"
     ]
    }
   ],
   "source": [
    "%%bash\n",
    "get_files_with_extension() {\n",
    "  local extension=$1\n",
    "  local files=()\n",
    "  \n",
    "  for file in *.\"$extension\"; do\n",
    "    if [[ -f \"$file\" ]]; then\n",
    "      files+=(\"$file\")\n",
    "    fi\n",
    "  done\n",
    "  echo \"${files[@]}\"\n",
    "}\n",
    "\n",
    "\n",
    "PYTHON=/home/ido/miniconda3/bin/python3.10\n",
    "PROFILER=/home/ido/br_stat_profiler/br_stat_profiler.py\n",
    "\n",
    "score_bins=(3)\n",
    "\n",
    "\n",
    "samples_dir=/media/storage/ido/test_profiler/NPC_2017\n",
    "# sample  bamfile dictionary, to load for multiple analyses\n",
    "declare -A bamfiles_dict\n",
    "# bamfiles_dict[\"SAMEA3879644\"]=\"HKNPC-090N.bam\"\n",
    "bamfiles_dict[\"SAMEA3879646\"]=\"HKNPC-101N.bam\"\n",
    "\n",
    "for sample in \"${!bamfiles_dict[@]}\"\n",
    "do\n",
    "    bam_dir=$samples_dir/$sample/\n",
    "    bam_file=${bamfiles_dict[$sample]}\n",
    "    cd ${bam_dir}\n",
    "    reports_4=$(get_files_with_extension \"4\")\n",
    "    reports_6=$(get_files_with_extension \"6\")\n",
    "    infiles=()\n",
    "    infiles+=(${reports_4[@]} ${reports_6[@]})\n",
    "    for infile in \"${infiles[@]}\"; do\n",
    "        for scr_bin in \"${score_bins[@]}\" ; do\n",
    "            outfile=$infile.profile.$scr_bin.bins\n",
    "            outfile_log=$outfile.log\n",
    "            # echo $outfile\n",
    "            max_wob_N=2 \n",
    "            max_wob_R_Y=3\n",
    "            if [[ $infile == *6 ]]; then  # filename ends with 6 context\n",
    "                max_wob_N=3 \n",
    "                max_wob_R_Y=4\n",
    "            fi  \n",
    "            \n",
    "            cmd=\"${PYTHON} ${PROFILER} --infile $infile --outfile $outfile --scr_bin_count $scr_bin \\\n",
    "                --qerr_cutoff 3 --max_score 35 --min_score 20 --keep_nan_value  --max_wob_N_occ $max_wob_N --max_wob_R_Y_occ $max_wob_R_Y --log_file $outfile_log\"\n",
    "            echo $cmd\n",
    "            $cmd &            \n",
    "        done\n",
    "    done\n",
    "done\n"
   ]
  },
  {
   "cell_type": "code",
   "execution_count": null,
   "metadata": {
    "vscode": {
     "languageId": "shellscript"
    }
   },
   "outputs": [],
   "source": []
  },
  {
   "attachments": {},
   "cell_type": "markdown",
   "metadata": {},
   "source": [
    "#### reads profiles and concatenate them into a single profile "
   ]
  },
  {
   "cell_type": "code",
   "execution_count": 20,
   "metadata": {},
   "outputs": [
    {
     "name": "stdout",
     "output_type": "stream",
     "text": [
      "['/media/storage/ido/test_profiler/NPC_2017/SAMEA3879644/HKNPC-090N.bam.autosomes.bam.GATKReport.mm_cntxt.4.profile.2.bins.csv', '/media/storage/ido/test_profiler/NPC_2017/SAMEA3879645/HKNPC-090T.bam.autosomes.bam.GATKReport.mm_cntxt.4.profile.2.bins.csv', '/media/storage/ido/test_profiler/NPC_2017/SAMEA3879646/HKNPC-101N.bam.autosomes.bam.GATKReport.mm_cntxt.4.profile.2.bins.csv', '/media/storage/ido/test_profiler/NPC_2017/SAMEA3879647/HKNPC-101T.bam.autosomes.bam.GATKReport.mm_cntxt.4.profile.2.bins.csv']\n",
      "/media/storage/ido/test_profiler/NPC_2017/All.autosomes.bam.GATKReport.mm_cntxt.4.profile.2.bins.csv\n",
      "['/media/storage/ido/test_profiler/NPC_2017/SAMEA3879644/HKNPC-090N.bam.autosomes.bam.GATKReport.mm_cntxt.4.profile.3.bins.csv', '/media/storage/ido/test_profiler/NPC_2017/SAMEA3879645/HKNPC-090T.bam.autosomes.bam.GATKReport.mm_cntxt.4.profile.3.bins.csv', '/media/storage/ido/test_profiler/NPC_2017/SAMEA3879646/HKNPC-101N.bam.autosomes.bam.GATKReport.mm_cntxt.4.profile.3.bins.csv', '/media/storage/ido/test_profiler/NPC_2017/SAMEA3879647/HKNPC-101T.bam.autosomes.bam.GATKReport.mm_cntxt.4.profile.3.bins.csv']\n",
      "/media/storage/ido/test_profiler/NPC_2017/All.autosomes.bam.GATKReport.mm_cntxt.4.profile.3.bins.csv\n",
      "['/media/storage/ido/test_profiler/NPC_2017/SAMEA3879644/HKNPC-090N.bam.autosomes.bam.GATKReport.mm_cntxt.6.profile.2.bins.csv', '/media/storage/ido/test_profiler/NPC_2017/SAMEA3879645/HKNPC-090T.bam.autosomes.bam.GATKReport.mm_cntxt.6.profile.2.bins.csv', '/media/storage/ido/test_profiler/NPC_2017/SAMEA3879646/HKNPC-101N.bam.autosomes.bam.GATKReport.mm_cntxt.6.profile.2.bins.csv', '/media/storage/ido/test_profiler/NPC_2017/SAMEA3879647/HKNPC-101T.bam.autosomes.bam.GATKReport.mm_cntxt.6.profile.2.bins.csv']\n",
      "/media/storage/ido/test_profiler/NPC_2017/All.autosomes.bam.GATKReport.mm_cntxt.6.profile.2.bins.csv\n",
      "['/media/storage/ido/test_profiler/NPC_2017/SAMEA3879644/HKNPC-090N.bam.autosomes.bam.GATKReport.mm_cntxt.6.profile.3.bins.csv', '/media/storage/ido/test_profiler/NPC_2017/SAMEA3879645/HKNPC-090T.bam.autosomes.bam.GATKReport.mm_cntxt.6.profile.3.bins.csv', '/media/storage/ido/test_profiler/NPC_2017/SAMEA3879646/HKNPC-101N.bam.autosomes.bam.GATKReport.mm_cntxt.6.profile.3.bins.csv', '/media/storage/ido/test_profiler/NPC_2017/SAMEA3879647/HKNPC-101T.bam.autosomes.bam.GATKReport.mm_cntxt.6.profile.3.bins.csv']\n",
      "/media/storage/ido/test_profiler/NPC_2017/All.autosomes.bam.GATKReport.mm_cntxt.6.profile.3.bins.csv\n"
     ]
    }
   ],
   "source": [
    "import pandas as pd\n",
    "import os\n",
    "\n",
    "samples_dict = {}\n",
    "samples_dict[\"SAMEA3879644\"]=\"HKNPC-090N.bam\"\n",
    "samples_dict[\"SAMEA3879645\"]=\"HKNPC-090T.bam\"\n",
    "samples_dict[\"SAMEA3879646\"]=\"HKNPC-101N.bam\"\n",
    "samples_dict[\"SAMEA3879647\"]=\"HKNPC-101T.bam\"\n",
    "\n",
    "mm_cntxt_sizes = [4,6]\n",
    "score_bins = [2,3]\n",
    "autosomes = [True, False]\n",
    "\n",
    "ROOT_DIR = \"/media/storage/ido/test_profiler/NPC_2017/\"\n",
    "META_EXT = \".metadata\"\n",
    "ALL_SAMPLE_FILENAME = \"All\"\n",
    "# def get_sample_dir(sample):\n",
    "    \n",
    "#     pass\n",
    "\n",
    "def get_full_path(sample,bins_count, mm_cntxt_size, autosomes=False):\n",
    "    dir = ROOT_DIR + sample + \"/\" \n",
    "    filename = samples_dict[sample]\n",
    "    if autosomes:\n",
    "        filename += \".autosomes.bam\"\n",
    "    filename += \".GATKReport.mm_cntxt.\" + str(mm_cntxt_size) + \".profile.\" + str(bins_count) + \".bins.csv\"\n",
    "    return os.path.join(dir, filename)\n",
    "\n",
    "def get_file_list(bin_count, mm_cntxt_size, autosomes=False):\n",
    "    files = []\n",
    "    for sample in samples_dict.keys():\n",
    "        filename =  get_full_path(sample,bin_count,mm_cntxt_size, autosomes)\n",
    "        files.append(filename)\n",
    "    return files\n",
    "\n",
    "def get_output_file(bins_count, mm_cntxt_size, autosomes):\n",
    "    dir = ROOT_DIR\n",
    "    filename= ALL_SAMPLE_FILENAME\n",
    "    if autosomes:\n",
    "        filename += \".autosomes.bam\"\n",
    "    filename += \".GATKReport.mm_cntxt.\" + str(mm_cntxt_size) + \".profile.\" + str(bins_count) + \".bins.csv\"\n",
    "    return os.path.join(dir, filename)\n",
    "\n",
    "def concatenate_csv_dataframes(csv_files, output_file):\n",
    "    # Initialize an empty list to store the dataframes\n",
    "    dfs = []\n",
    "\n",
    "    # Read each CSV file into a dataframe and append it to the list\n",
    "    for csv_file in csv_files:\n",
    "        df = pd.read_csv(csv_file)\n",
    "        dfs.append(df)\n",
    "\n",
    "    # Concatenate the dataframes along the columns (axis=1)\n",
    "    concatenated_df = pd.concat(dfs, axis=1)\n",
    "\n",
    "    # Save the concatenated dataframe to a new CSV file\n",
    "    concatenated_df.to_csv(output_file, index=False)\n",
    "    print(\"Concatenated dataframe saved to\", output_file)\n",
    "\n",
    "# Example usage:\n",
    "# csv_files = [\"data1.csv\", \"data2.csv\", \"data3.csv\"]\n",
    "# output_file = \"concatenated_data.csv\"\n",
    "for cntxt_size in mm_cntxt_sizes:\n",
    "    for scr_bin in score_bins:\n",
    "        for is_auto in autosomes:\n",
    "            profiles_files = get_file_list(scr_bin, cntxt_size, is_auto)\n",
    "            # print(profiles_files)\n",
    "            multi_profile_file = get_output_file(scr_bin, cntxt_size, is_auto)\n",
    "            output_meta = multi_profile_file + META_EXT\n",
    "            # print(multi_profile_file)\n",
    "            break\n",
    "            # concatenate_csv_dataframes(profiles_files, output_file)\n",
    "            # # write files list to meta file\n",
    "            # with  open(output_meta, 'x') as meta_f:\n",
    "            #     [print(f, file = meta_f) for f in profiles_files]\n",
    "            \n"
   ]
  },
  {
   "cell_type": "code",
   "execution_count": 3,
   "metadata": {
    "vscode": {
     "languageId": "shellscript"
    }
   },
   "outputs": [
    {
     "name": "stdout",
     "output_type": "stream",
     "text": [
      "/home/ido/gatk/gatk BaseRecalibrator -I /media/storage/ido/test_profiler/NPC_2017/Alice -R /home/ido/resources/hs37d5/hs37d5.fa --known-sites /home/ido/mapping_resources//dbSNP_b151_GRCh37.p13/00-All.vcf.gz -O /home/ido/bqsr_tab_anslysis/data/NPC_2017/Alice.bam.GATKReport &\n",
      "/home/ido/gatk/gatk BaseRecalibrator -I /media/storage/ido/test_profiler/NPC_2017/Bob -R /home/ido/resources/hs37d5/hs37d5.fa --known-sites /home/ido/mapping_resources//dbSNP_b151_GRCh37.p13/00-All.vcf.gz -O /home/ido/bqsr_tab_anslysis/data/NPC_2017/Bob.bam.GATKReport &\n",
      "/home/ido/gatk/gatk BaseRecalibrator -I /media/storage/ido/test_profiler/NPC_2017/Charlie -R /home/ido/resources/hs37d5/hs37d5.fa --known-sites /home/ido/mapping_resources//dbSNP_b151_GRCh37.p13/00-All.vcf.gz -O /home/ido/bqsr_tab_anslysis/data/NPC_2017/Charlie.bam.GATKReport &\n",
      "/home/ido/gatk/gatk BaseRecalibrator -I /media/storage/ido/test_profiler/NPC_2017/Dave -R /home/ido/resources/hs37d5/hs37d5.fa --known-sites /home/ido/mapping_resources//dbSNP_b151_GRCh37.p13/00-All.vcf.gz -O /home/ido/bqsr_tab_anslysis/data/NPC_2017/Dave.bam.GATKReport &\n"
     ]
    }
   ],
   "source": [
    "%%bash\n",
    "in_files=(\"Alice\" \"Bob\" \"Charlie\" \"Dave\")\n",
    "IN_BAM_DIR=/media/storage/ido/test_profiler/NPC_2017\n",
    "OUTDIR=$HOME/bqsr_tab_anslysis/data/NPC_2017 \n",
    "\n",
    "REF_GENOME=$HOME/resources/hs37d5/hs37d5.fa\n",
    "KNOWN_SITES=$HOME/mapping_resources//dbSNP_b151_GRCh37.p13/00-All.vcf.gz\n",
    "\n",
    "OUT_EXT=bam.GATKReport\n",
    "for fname in \"${in_files[@]}\"\n",
    "do\n",
    "    in_full_path=$IN_BAM_DIR/$fname\n",
    "    in_basename=$(basename \"$in_full_path\" .bam)\n",
    "\n",
    "    outfile=$OUTDIR/$in_basename.$OUT_EXT\n",
    "    # echo \"base:${in_basename}\"\n",
    "    # # echo \"dirname:${in_dirname}\"\n",
    "    # echo \"outfile:${outfile}\"\n",
    "    \n",
    "    BASE_RECALIRATOR_CMD=\"$HOME/gatk/gatk BaseRecalibrator -I $in_full_path -R $REF_GENOME \\\n",
    "                        --known-sites $KNOWN_SITES -O $outfile &\"\n",
    "    echo $BASE_RECALIRATOR_CMD\n",
    "done"
   ]
  },
  {
   "cell_type": "code",
   "execution_count": null,
   "metadata": {
    "vscode": {
     "languageId": "shellscript"
    }
   },
   "outputs": [
    {
     "name": "stdout",
     "output_type": "stream",
     "text": [
      "/home/ido/gatk/gatk BaseRecalibrator -I /media/storage/ido/test_profiler/NPC_2017/Alice -R /home/ido/resources/hs37d5/hs37d5.fa --known-sites /home/ido/mapping_resources/00-common_all.vcf.gz -O /home/ido/bqsr_tab_anslysis/data/NPC_2017/Alice.bam.GATKReport\n",
      "/home/ido/gatk/gatk BaseRecalibrator -I /media/storage/ido/test_profiler/NPC_2017/Bob -R /home/ido/resources/hs37d5/hs37d5.fa --known-sites /home/ido/mapping_resources/00-common_all.vcf.gz -O /home/ido/bqsr_tab_anslysis/data/NPC_2017/Bob.bam.GATKReport\n",
      "/home/ido/gatk/gatk BaseRecalibrator -I /media/storage/ido/test_profiler/NPC_2017/Charlie -R /home/ido/resources/hs37d5/hs37d5.fa --known-sites /home/ido/mapping_resources/00-common_all.vcf.gz -O /home/ido/bqsr_tab_anslysis/data/NPC_2017/Charlie.bam.GATKReport\n",
      "/home/ido/gatk/gatk BaseRecalibrator -I /media/storage/ido/test_profiler/NPC_2017/Dave -R /home/ido/resources/hs37d5/hs37d5.fa --known-sites /home/ido/mapping_resources/00-common_all.vcf.gz -O /home/ido/bqsr_tab_anslysis/data/NPC_2017/Dave.bam.GATKReport\n"
     ]
    }
   ],
   "source": [
    "%%bash\n",
    "in_files=(\"Alice\" \"Bob\" \"Charlie\" \"Dave\")\n",
    "IN_BAM_DIR=/media/storage/ido/test_profiler/NPC_2017\n",
    "OUTDIR=$HOME/bqsr_tab_anslysis/data/NPC_2017 \n",
    "\n",
    "REF_GENOME=$HOME/resources/hs37d5/hs37d5.fa\n",
    "KNOWN_SITES=$HOME/mapping_resources/dbSNP_build_151/00-All.vcf.gz\n",
    "\n",
    "OUT_EXT=bam.GATKReport\n",
    "for fname in \"${in_files[@]}\"\n",
    "do\n",
    "    in_full_path=$IN_BAM_DIR/$fname\n",
    "    in_basename=$(basename \"$in_full_path\" .bam)\n",
    "\n",
    "    outfile=$OUTDIR/$in_basename.$OUT_EXT\n",
    "    # echo \"base:${in_basename}\"\n",
    "    # # echo \"dirname:${in_dirname}\"\n",
    "    # echo \"outfile:${outfile}\"\n",
    "    \n",
    "    BASE_RECALIRATOR_CMD=\"$HOME/gatk/gatk BaseRecalibrator -I $in_full_path -R $REF_GENOME \\\n",
    "                        --known-sites $KNOWN_SITES -O $outfile &\"\n",
    "    echo $BASE_RECALIRATOR_CMD\n",
    "done"
   ]
  }
 ],
 "metadata": {
  "kernelspec": {
   "display_name": "bqsr_venv",
   "language": "python",
   "name": "python3"
  },
  "language_info": {
   "codemirror_mode": {
    "name": "ipython",
    "version": 3
   },
   "file_extension": ".py",
   "mimetype": "text/x-python",
   "name": "python",
   "nbconvert_exporter": "python",
   "pygments_lexer": "ipython3",
   "version": "3.10.9"
  },
  "orig_nbformat": 4
 },
 "nbformat": 4,
 "nbformat_minor": 2
}
