{
 "cells": [
  {
   "attachments": {},
   "cell_type": "markdown",
   "metadata": {},
   "source": [
    "**downloading human genome**<br/>\n",
    "*uncomment to run (including %%bash)"
   ]
  },
  {
   "cell_type": "code",
   "execution_count": 2,
   "metadata": {
    "vscode": {
     "languageId": "shellscript"
    }
   },
   "outputs": [],
   "source": [
    "# %%bash\n",
    "# mkdir ${HOME}/resources\n",
    "# cd  resources/hs37d5/\n",
    "# wget -q \"ftp://ftp.1000genomes.ebi.ac.uk/vol1/ftp/technical/reference/phase2_reference_assembly_sequence/hs37d5.fa.gz\"\n",
    "# gunzip hs37d5.fa.gz\n",
    "#samtools faidx hs37d5.fa"
   ]
  },
  {
   "attachments": {},
   "cell_type": "markdown",
   "metadata": {},
   "source": [
    "**downloading dbSNP.vcf**<br/> for masking known variable sites \n",
    "Zviran uses dbSNP (build 151)<br/>\n",
    "*uncomment to run (including %%bash)"
   ]
  },
  {
   "cell_type": "code",
   "execution_count": 1,
   "metadata": {
    "vscode": {
     "languageId": "shellscript"
    }
   },
   "outputs": [],
   "source": [
    "%%bash\n",
    "mkdir -p -- $HOME/mapping_resources\n",
    "cd $HOME/mapping_resources\n",
    "BUILD_151_FTP_SITE=\"ftp://ftp.ncbi.nlm.nih.gov/snp/.redesign/pre_build152/organisms/human_9606_b151_GRCh37p13/VCF/\"\n",
    "wget -q $BUILD_151_FTP_SITE/00-All.vcf.gz       # all snps (14.6 GB)\n",
    "wget -q $BUILD_151_FTP_SITE/00-common_all.vcf.gz # common snps (1.49 GB)\n",
    "# gunzip 00-All.vcf.gz  \n",
    "# gunzip 00-common_all.vcf.gz"
   ]
  },
  {
   "cell_type": "code",
   "execution_count": 6,
   "metadata": {
    "vscode": {
     "languageId": "shellscript"
    }
   },
   "outputs": [],
   "source": [
    "# old vcf download (build 135)\n",
    "# %%bash\n",
    "# mkdir ${HOME}/mapping_resources\n",
    "# cd   ${HOME}/mapping_resources\n",
    "# wget -q ftp://ftp.1000genomes.ebi.ac.uk/vol1/ftp/technical/reference/phase2_mapping_resources/ALL.wgs.dbsnp.build135.snps.sites.vcf.gz\n",
    "# gunzip ALL.wgs.dbsnp.build135.snps.sites.vcf.gz\n"
   ]
  },
  {
   "attachments": {},
   "cell_type": "markdown",
   "metadata": {},
   "source": [
    "**installation of bwa**<br/> \n",
    "v0.7.17-r1198-dirty, Zviran uses v0.6.2 which cannot be found<br/>\n",
    "*uncomment to run (including %%bash)"
   ]
  },
  {
   "cell_type": "code",
   "execution_count": null,
   "metadata": {
    "vscode": {
     "languageId": "shellscript"
    }
   },
   "outputs": [],
   "source": [
    "# %%bash\n",
    "# cd ${HOME}\n",
    "# git clone https://github.com/lh3/bwa.git\n",
    "# cd bwa; make"
   ]
  },
  {
   "attachments": {},
   "cell_type": "markdown",
   "metadata": {},
   "source": [
    "**genome indexing**<br/>\n",
    "*uncomment to run (including %%bash)"
   ]
  },
  {
   "cell_type": "code",
   "execution_count": null,
   "metadata": {
    "vscode": {
     "languageId": "shellscript"
    }
   },
   "outputs": [],
   "source": [
    "# %%bash\n",
    "# ${HOME}/bwa/bwa index ${HOME}/resources/hs37d5.fa\n",
    "# ls -l ${HOME}/resources"
   ]
  },
  {
   "attachments": {},
   "cell_type": "markdown",
   "metadata": {},
   "source": [
    "**GATK installation**<br/>\n",
    "1) binary java installation\n",
    "*uncomment to run (including %%bash)"
   ]
  },
  {
   "cell_type": "code",
   "execution_count": null,
   "metadata": {
    "vscode": {
     "languageId": "shellscript"
    }
   },
   "outputs": [],
   "source": [
    "#%%bash \n",
    "# cd $HOME\n",
    "# mkdir -p -- downloads\n",
    "# cd ${HOME}/downloads\n",
    "# wget https://github.com/adoptium/temurin17-binaries/releases/download/jdk-17.0.6%2B10/OpenJDK17U-jdk_x64_linux_hotspot_17.0.6_10.tar.gz\n",
    "# tar -xvzf ${HOME}/downloads/OpenJDK17U-jdk_x64_linux_hotspot_17.0.6_10.tar.gz -C $HOME \n",
    "# echo -e \"\\n\\n\" >> $HOME/.bashrc\n",
    "# echo \"export JAVA_HOME=\\\"\\${HOME}/jdk-17.0.6+10\\\"\" >> $HOME/.bashrc\n",
    "# echo \"export PATH=\\\"\\${JAVA_HOME}/bin:\\${PATH}\\\"\" >> $HOME/.bashrc\n",
    "# source $HOME/.bashrc\n",
    "# tail $HOME/.bashrc\n",
    "# echo $JAVA_HOME\n",
    "# echo $PATH"
   ]
  },
  {
   "attachments": {},
   "cell_type": "markdown",
   "metadata": {},
   "source": [
    "**GATK installation**<br/>\n",
    "2) conda intallation - press enter for default values and yes to init\n",
    "*uncomment to run (including %%bash)"
   ]
  },
  {
   "cell_type": "code",
   "execution_count": null,
   "metadata": {
    "vscode": {
     "languageId": "shellscript"
    }
   },
   "outputs": [],
   "source": [
    "# %%bash \n",
    "# cd $HOME\n",
    "# mkdir -p -- downloads\n",
    "# cd ${HOME}/downloads\n",
    "# wget https://repo.anaconda.com/miniconda/Miniconda3-py310_23.1.0-1-Linux-x86_64.sh\n",
    "# cd $HOME\n",
    "# mv downloads/Miniconda3-py310_23.1.0-1-Linux-x86_64.sh .\n",
    "# bash Miniconda3-py310_23.1.0-1-Linux-x86_64.sh\n"
   ]
  },
  {
   "attachments": {},
   "cell_type": "markdown",
   "metadata": {},
   "source": [
    "**GATK installation**<br/>\n",
    "3) installation of R, gradle and git-lfs\n",
    "*uncomment to run (including %%bash)"
   ]
  },
  {
   "cell_type": "code",
   "execution_count": null,
   "metadata": {
    "vscode": {
     "languageId": "shellscript"
    }
   },
   "outputs": [],
   "source": [
    "# %%bash \n",
    "# conda install -c conda-forge r-base\n",
    "# conda install -c conda-forge gradle\n",
    "# conda install -c conda-forge git-lfs\n",
    "# git lfs install"
   ]
  },
  {
   "attachments": {},
   "cell_type": "markdown",
   "metadata": {},
   "source": [
    "**GATK installation**<br/>\n",
    "4) installation of GATK\n",
    "*uncomment to run (including %%bash)"
   ]
  },
  {
   "cell_type": "code",
   "execution_count": null,
   "metadata": {
    "vscode": {
     "languageId": "shellscript"
    }
   },
   "outputs": [],
   "source": [
    "#%%bash\n",
    "# cd $HOME\n",
    "# git clone https://github.com/broadinstitute/gatk\n",
    "# $HOME/gatk/gradlew\n",
    "# echo -e \"\\n\" >> $HOME/.bashrc\n",
    "# echo \"export PATH=\\$PATH:\\$HOME/gatk/\" >> $HOME/.bashrc\n",
    "# source $HOME/.bashrc\n",
    "# tail $HOME/.bashrc\n",
    "#$HOME/gatk/gatk PrintReads -I dummy_file   \n"
   ]
  },
  {
   "attachments": {},
   "cell_type": "markdown",
   "metadata": {},
   "source": [
    "**install picard** </br>\n",
    "*uncomment to run (including %%bash)"
   ]
  },
  {
   "cell_type": "code",
   "execution_count": 4,
   "metadata": {
    "vscode": {
     "languageId": "shellscript"
    }
   },
   "outputs": [
    {
     "name": "stdout",
     "output_type": "stream",
     "text": [
      "Starting a Gradle Daemon (subsequent builds will be faster)\n",
      "\n",
      "> Task :compileJava\n"
     ]
    },
    {
     "name": "stderr",
     "output_type": "stream",
     "text": [
      "Note: Some input files use or override a deprecated API.\n",
      "Note: Recompile with -Xlint:deprecation for details.\n",
      "Note: Some input files use unchecked or unsafe operations.\n",
      "Note: Recompile with -Xlint:unchecked for details.\n"
     ]
    },
    {
     "name": "stdout",
     "output_type": "stream",
     "text": [
      "\n",
      "> Task :processResources\n",
      "> Task :classes\n",
      "> Task :jar\n",
      "\n",
      "Deprecated Gradle features were used in this build, making it incompatible with Gradle 8.0.\n",
      "\n",
      "You can use '--warning-mode all' to show the individual deprecation warnings and determine if they come from your own scripts or plugins.\n",
      "\n",
      "See https://docs.gradle.org/7.5.1/userguide/command_line_interface.html#sec:command_line_warnings\n",
      "\n",
      "BUILD SUCCESSFUL in 24s\n",
      "3 actionable tasks: 3 executed\n"
     ]
    }
   ],
   "source": [
    "# %%bash\n",
    "# cd $HOME\n",
    "# git clone https://github.com/broadinstitute/picard.git\n",
    "# cd picard/\n",
    "# ./gradlew shadowJar\n",
    "# ./gradlew clean\n",
    "# cd $HOME\n",
    "# # cmd to run test  \"$HOME/picard/gradlew test\"\n"
   ]
  },
  {
   "cell_type": "code",
   "execution_count": null,
   "metadata": {
    "vscode": {
     "languageId": "shellscript"
    }
   },
   "outputs": [],
   "source": [
    "#%%bash \n",
    "#mkdir -p -- $HOME/picard\n",
    "#cd $HOME/picard\n",
    "# wget -q https://github.com/broadinstitute/picard/releases/download/3.0.0/picard.jar\n",
    "#echo -e \"\\n\\n\" >> $HOME/.bashrc\n",
    "#echo \"export PATH=\\$PATH:\\$HOME/picard/\" >> $HOME/.bashrc\n",
    "# source $HOME/.bashrc\n",
    "# tail $HOME/.bashrc"
   ]
  },
  {
   "attachments": {},
   "cell_type": "markdown",
   "metadata": {},
   "source": []
  },
  {
   "attachments": {},
   "cell_type": "markdown",
   "metadata": {},
   "source": [
    "<!-- %%bash\n",
    "conda install -c conda-forge r-base\n",
    "conda install -c conda-forge gradle -->"
   ]
  }
 ],
 "metadata": {
  "kernelspec": {
   "display_name": "bqsr_venv",
   "language": "python",
   "name": "python3"
  },
  "language_info": {
   "codemirror_mode": {
    "name": "ipython",
    "version": 3
   },
   "file_extension": ".py",
   "mimetype": "text/x-python",
   "name": "python",
   "nbconvert_exporter": "python",
   "pygments_lexer": "ipython3",
   "version": "3.10.9"
  },
  "orig_nbformat": 4
 },
 "nbformat": 4,
 "nbformat_minor": 2
}
